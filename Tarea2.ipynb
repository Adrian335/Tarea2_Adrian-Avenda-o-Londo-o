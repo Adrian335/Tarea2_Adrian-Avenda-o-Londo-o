{
 "cells": [
  {
   "cell_type": "code",
   "execution_count": 1,
   "metadata": {},
   "outputs": [],
   "source": [
    "import vector as v\n",
    "import math as m"
   ]
  },
  {
   "cell_type": "code",
   "execution_count": 2,
   "metadata": {},
   "outputs": [],
   "source": [
    "#Definimos los vectores\n",
    "a = v.VectorCartesiano(1.5,0,2.4)\n",
    "b = v.VectorCartesiano(0,1,9)\n",
    "c = v.VectorCartesiano(4.2,0.05,0)"
   ]
  },
  {
   "cell_type": "code",
   "execution_count": 3,
   "metadata": {},
   "outputs": [],
   "source": [
    "#Traemos las componentes sin dirección\n",
    "ap= v.VectorPolar(v.VectorCartesiano.TransPolar(a)[0],v.VectorCartesiano.TransPolar(a)[1],\n",
    "                  v.VectorCartesiano.TransPolar(a)[2])\n",
    "bp= v.VectorPolar(v.VectorCartesiano.TransPolar(b)[0],v.VectorCartesiano.TransPolar(b)[1],\n",
    "                  v.VectorCartesiano.TransPolar(b)[2])\n",
    "cp= v.VectorPolar(v.VectorCartesiano.TransPolar(c)[0],v.VectorCartesiano.TransPolar(c)[1],\n",
    "                 v.VectorCartesiano.TransPolar(c)[2])\n",
    "#Aplicamos la transformación de los vectores de la base, ya con direcciones en r,theta,phi\n",
    "ae = v.VectorPolar.TransEsf(ap)\n",
    "be = v.VectorPolar.TransEsf(bp)\n",
    "ce = v.VectorPolar.TransEsf(cp)"
   ]
  },
  {
   "cell_type": "code",
   "execution_count": 4,
   "metadata": {},
   "outputs": [
    {
     "name": "stdout",
     "output_type": "stream",
     "text": [
      "Las componentes para el vector a\n",
      "Componente en la dirección radial: 2.8301943396169813\n",
      "Componente en la dirección angular: 0.0\n",
      "Componente en la dirección asimutal: 0.0\n"
     ]
    }
   ],
   "source": [
    "print(\"Las componentes para el vector a\")\n",
    "\n",
    "print(\"Componente en la dirección radial:\",ae[0])\n",
    "print(\"Componente en la dirección angular:\",ae[1])\n",
    "print(\"Componente en la dirección asimutal:\",ae[2])"
   ]
  },
  {
   "cell_type": "code",
   "execution_count": 5,
   "metadata": {},
   "outputs": [
    {
     "name": "stdout",
     "output_type": "stream",
     "text": [
      "Las componentes para el vector b\n",
      "Componente en la dirección radial: 9.055385138137417\n",
      "Componente en la dirección angular: 1.1102230246251565e-16\n",
      "Componente en la dirección asimutal: 0.0\n"
     ]
    }
   ],
   "source": [
    "print(\"Las componentes para el vector b\")\n",
    "\n",
    "print(\"Componente en la dirección radial:\",be[0])\n",
    "print(\"Componente en la dirección angular:\",be[1])\n",
    "print(\"Componente en la dirección asimutal:\",be[2])"
   ]
  },
  {
   "cell_type": "code",
   "execution_count": 6,
   "metadata": {},
   "outputs": [
    {
     "name": "stdout",
     "output_type": "stream",
     "text": [
      "Las componentes para el vector c\n",
      "Componente en la dirección radial: 4.200297608503473\n",
      "Componente en la dirección angular: -9.860761315262648e-32\n",
      "Componente en la dirección asimutal: 6.938893903907228e-18\n"
     ]
    }
   ],
   "source": [
    "print(\"Las componentes para el vector c\")\n",
    "\n",
    "print(\"Componente en la dirección radial:\",ce[0])\n",
    "print(\"Componente en la dirección angular:\",ce[1])\n",
    "print(\"Componente en la dirección asimutal:\",ce[2])"
   ]
  },
  {
   "cell_type": "code",
   "execution_count": 7,
   "metadata": {},
   "outputs": [
    {
     "name": "stdout",
     "output_type": "stream",
     "text": [
      "El producto punto entre a y b es: 21.599999999999998\n",
      "El producto punto entre a y b es: 6.300000000000001\n",
      "El producto punto entre a y b es: 0.05\n"
     ]
    }
   ],
   "source": [
    "#Producto punto\n",
    "\n",
    "ab=a*b\n",
    "\n",
    "ac=a*c\n",
    "\n",
    "bc = b*c\n",
    "\n",
    "print(\"El producto punto entre a y b es:\",ab)\n",
    "print(\"El producto punto entre a y b es:\",ac)\n",
    "print(\"El producto punto entre a y b es:\",bc)"
   ]
  },
  {
   "cell_type": "code",
   "execution_count": 8,
   "metadata": {},
   "outputs": [
    {
     "name": "stdout",
     "output_type": "stream",
     "text": [
      "El producto cruz entre a y b es: [-2.4, -13.5, 1.5]\n",
      "El producto cruz entre a y c es: [-0.12, 10.08, 0.07500000000000001]\n",
      "El producto cruz entre b y c es: [-0.45, 37.800000000000004, -4.2]\n"
     ]
    }
   ],
   "source": [
    "#Producto cruz\n",
    "\n",
    "axb = a.Cruz(b).cartesiano\n",
    "axc = a.Cruz(c).cartesiano\n",
    "bxc = b.Cruz(c).cartesiano\n",
    "\n",
    "print(\"El producto cruz entre a y b es:\",axb)\n",
    "print(\"El producto cruz entre a y c es:\",axc)\n",
    "print(\"El producto cruz entre b y c es:\",bxc)"
   ]
  },
  {
   "cell_type": "code",
   "execution_count": 9,
   "metadata": {
    "scrolled": true
   },
   "outputs": [
    {
     "name": "stdout",
     "output_type": "stream",
     "text": [
      "El ángulo entre el vector a y b, en radianes, es de: 0.5683100543147127\n",
      "El ángulo entre el vector a y c, en radianes, es de: 1.0122412946803023\n",
      "El ángulo entre el vector b y c, en radianes, es de: 1.569481758540766\n"
     ]
    }
   ],
   "source": [
    "# Angulo entre los vectores \n",
    "\n",
    "aAb = m.acos(ab/(a.magnitudCartesiano*b.magnitudCartesiano))\n",
    "aAc = m.acos(ac/(a.magnitudCartesiano*c.magnitudCartesiano))\n",
    "bAc = m.acos(bc/(b.magnitudCartesiano*c.magnitudCartesiano))\n",
    "\n",
    "print(\"El ángulo entre el vector a y b, en radianes, es de:\",aAb)\n",
    "print(\"El ángulo entre el vector a y c, en radianes, es de:\",aAc)\n",
    "print(\"El ángulo entre el vector b y c, en radianes, es de:\",bAc)"
   ]
  }
 ],
 "metadata": {
  "kernelspec": {
   "display_name": "Python 3",
   "language": "python",
   "name": "python3"
  },
  "language_info": {
   "codemirror_mode": {
    "name": "ipython",
    "version": 3
   },
   "file_extension": ".py",
   "mimetype": "text/x-python",
   "name": "python",
   "nbconvert_exporter": "python",
   "pygments_lexer": "ipython3",
   "version": "3.6.9"
  }
 },
 "nbformat": 4,
 "nbformat_minor": 4
}
